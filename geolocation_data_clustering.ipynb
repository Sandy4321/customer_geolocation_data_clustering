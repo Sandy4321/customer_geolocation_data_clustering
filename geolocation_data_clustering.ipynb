{
  "nbformat": 4,
  "nbformat_minor": 0,
  "metadata": {
    "colab": {
      "name": "geolocation_data_clustering.ipynb",
      "provenance": [],
      "collapsed_sections": []
    },
    "kernelspec": {
      "name": "python3",
      "display_name": "Python 3"
    },
    "language_info": {
      "name": "python"
    },
    "accelerator": "GPU"
  },
  "cells": [
    {
      "cell_type": "markdown",
      "metadata": {
        "collapsed": true,
        "id": "OKG9v1s8TWqd"
      },
      "source": [
        "# Build a Clustering Model to Perform a Customer Geolocation Data Clustering with K-Means Algorithm"
      ]
    },
    {
      "cell_type": "markdown",
      "metadata": {
        "collapsed": false,
        "id": "CFTbwWdTTWqk"
      },
      "source": [
        "This is the flow process of geolocation data in the clustering algorithm :\n",
        "\n",
        "![image alt](static/flow_process.png \"Flow Process\")"
      ]
    },
    {
      "cell_type": "code",
      "metadata": {
        "colab": {
          "base_uri": "https://localhost:8080/"
        },
        "id": "vFNOToqrTgo2",
        "outputId": "ea5565ed-0512-4770-ed5b-b9049e367047"
      },
      "source": [
        "!pip install geopandas"
      ],
      "execution_count": 1,
      "outputs": [
        {
          "output_type": "stream",
          "name": "stdout",
          "text": [
            "Requirement already satisfied: geopandas in /usr/local/lib/python3.7/dist-packages (0.10.2)\n",
            "Requirement already satisfied: pandas>=0.25.0 in /usr/local/lib/python3.7/dist-packages (from geopandas) (1.1.5)\n",
            "Requirement already satisfied: pyproj>=2.2.0 in /usr/local/lib/python3.7/dist-packages (from geopandas) (3.2.1)\n",
            "Requirement already satisfied: fiona>=1.8 in /usr/local/lib/python3.7/dist-packages (from geopandas) (1.8.20)\n",
            "Requirement already satisfied: shapely>=1.6 in /usr/local/lib/python3.7/dist-packages (from geopandas) (1.7.1)\n",
            "Requirement already satisfied: certifi in /usr/local/lib/python3.7/dist-packages (from fiona>=1.8->geopandas) (2021.5.30)\n",
            "Requirement already satisfied: attrs>=17 in /usr/local/lib/python3.7/dist-packages (from fiona>=1.8->geopandas) (21.2.0)\n",
            "Requirement already satisfied: six>=1.7 in /usr/local/lib/python3.7/dist-packages (from fiona>=1.8->geopandas) (1.15.0)\n",
            "Requirement already satisfied: click-plugins>=1.0 in /usr/local/lib/python3.7/dist-packages (from fiona>=1.8->geopandas) (1.1.1)\n",
            "Requirement already satisfied: munch in /usr/local/lib/python3.7/dist-packages (from fiona>=1.8->geopandas) (2.5.0)\n",
            "Requirement already satisfied: cligj>=0.5 in /usr/local/lib/python3.7/dist-packages (from fiona>=1.8->geopandas) (0.7.2)\n",
            "Requirement already satisfied: click>=4.0 in /usr/local/lib/python3.7/dist-packages (from fiona>=1.8->geopandas) (7.1.2)\n",
            "Requirement already satisfied: setuptools in /usr/local/lib/python3.7/dist-packages (from fiona>=1.8->geopandas) (57.4.0)\n",
            "Requirement already satisfied: pytz>=2017.2 in /usr/local/lib/python3.7/dist-packages (from pandas>=0.25.0->geopandas) (2018.9)\n",
            "Requirement already satisfied: numpy>=1.15.4 in /usr/local/lib/python3.7/dist-packages (from pandas>=0.25.0->geopandas) (1.21.2)\n",
            "Requirement already satisfied: python-dateutil>=2.7.3 in /usr/local/lib/python3.7/dist-packages (from pandas>=0.25.0->geopandas) (2.8.2)\n"
          ]
        }
      ]
    },
    {
      "cell_type": "markdown",
      "metadata": {
        "id": "G5DM8pdAWase"
      },
      "source": [
        "## Geocoding : From Address to Longitude & Latitude"
      ]
    },
    {
      "cell_type": "code",
      "metadata": {
        "id": "NiLL2-QoTWql"
      },
      "source": [
        "from geopandas.tools import geocode"
      ],
      "execution_count": 2,
      "outputs": []
    },
    {
      "cell_type": "code",
      "metadata": {
        "colab": {
          "base_uri": "https://localhost:8080/"
        },
        "id": "CcNdY-eqTWqn",
        "outputId": "cddc77b3-a456-482a-b1af-e5a0ead89fa2"
      },
      "source": [
        "# Customer Address Needed to Perform Requests for Fetching Geolocation Data\n",
        "customer_address = \"RIVIERA, CASABLANCA\"\n",
        "\n",
        "latitude, longitude = None, None\n",
        "\n",
        "try:\n",
        "    result = geocode(customer_address, provider=\"nominatim\")\n",
        "    geo_location = result.geometry.iloc[0]\n",
        "    latitude = geo_location.y\n",
        "    longitude = geo_location.x\n",
        "except:\n",
        "    pass\n",
        "\n",
        "print(f\"Your address : {customer_address}\")\n",
        "print(f\"Your geolocation : {latitude, longitude}\")"
      ],
      "execution_count": 3,
      "outputs": [
        {
          "output_type": "stream",
          "name": "stderr",
          "text": [
            "/usr/local/lib/python3.7/dist-packages/geopy/geocoders/osm.py:143: UserWarning: Using Nominatim with the default \"geopy/1.17.0\" `user_agent` is strongly discouraged, as it violates Nominatim's ToS https://operations.osmfoundation.org/policies/nominatim/ and may possibly cause 403 and 429 HTTP errors. Please specify a custom `user_agent` with `Nominatim(user_agent=\"my-application\")` or by overriding the default `user_agent`: `geopy.geocoders.options.default_user_agent = \"my-application\"`. In geopy 2.0 this will become an exception.\n",
            "  UserWarning\n"
          ]
        },
        {
          "output_type": "stream",
          "name": "stdout",
          "text": [
            "Your address : RIVIERA, CASABLANCA\n",
            "Your geolocation : (33.5709378, -7.6363549)\n"
          ]
        }
      ]
    },
    {
      "cell_type": "markdown",
      "metadata": {
        "id": "KchGBgXcjm_g"
      },
      "source": [
        "## Import Geolocation Data"
      ]
    },
    {
      "cell_type": "code",
      "metadata": {
        "colab": {
          "base_uri": "https://localhost:8080/"
        },
        "id": "wGysX-EHW7u0",
        "outputId": "f61f683f-ea61-46e4-f525-8e8c6c4ffe92"
      },
      "source": [
        "pip install pandas numpy sklearn"
      ],
      "execution_count": 4,
      "outputs": [
        {
          "output_type": "stream",
          "name": "stdout",
          "text": [
            "Requirement already satisfied: pandas in /usr/local/lib/python3.7/dist-packages (1.1.5)\n",
            "Requirement already satisfied: numpy in /usr/local/lib/python3.7/dist-packages (1.21.2)\n",
            "Requirement already satisfied: sklearn in /usr/local/lib/python3.7/dist-packages (0.0)\n",
            "Requirement already satisfied: pytz>=2017.2 in /usr/local/lib/python3.7/dist-packages (from pandas) (2018.9)\n",
            "Requirement already satisfied: python-dateutil>=2.7.3 in /usr/local/lib/python3.7/dist-packages (from pandas) (2.8.2)\n",
            "Requirement already satisfied: six>=1.5 in /usr/local/lib/python3.7/dist-packages (from python-dateutil>=2.7.3->pandas) (1.15.0)\n",
            "Requirement already satisfied: scikit-learn in /usr/local/lib/python3.7/dist-packages (from sklearn) (0.22.2.post1)\n",
            "Requirement already satisfied: joblib>=0.11 in /usr/local/lib/python3.7/dist-packages (from scikit-learn->sklearn) (1.0.1)\n",
            "Requirement already satisfied: scipy>=0.17.0 in /usr/local/lib/python3.7/dist-packages (from scikit-learn->sklearn) (1.7.1)\n"
          ]
        }
      ]
    },
    {
      "cell_type": "code",
      "metadata": {
        "id": "ha9QXZloj6xk"
      },
      "source": [
        "import pandas as pd"
      ],
      "execution_count": 5,
      "outputs": []
    },
    {
      "cell_type": "code",
      "metadata": {
        "colab": {
          "base_uri": "https://localhost:8080/"
        },
        "id": "tkyWg8yrkAkJ",
        "outputId": "66aa7c1a-de54-4c7b-e5ff-ff16035fbff2"
      },
      "source": [
        "file_url = \"dataset/coord.csv\"\n",
        "\n",
        "data = pd.read_csv(file_url, delimiter=\";\")\n",
        "features = data[['latitude', 'longitude']]\n",
        "print(features)"
      ],
      "execution_count": 6,
      "outputs": [
        {
          "output_type": "stream",
          "name": "stdout",
          "text": [
            "      latitude  longitude\n",
            "0    33.546479  -7.655312\n",
            "1    33.549269  -7.650409\n",
            "2    33.540746  -7.641676\n",
            "3    33.585636  -7.619398\n",
            "4    33.598570  -7.647054\n",
            "..         ...        ...\n",
            "995  33.555675  -7.646576\n",
            "996  33.570501  -7.632851\n",
            "997  33.556785  -7.621489\n",
            "998  33.565970  -7.651056\n",
            "999  33.596105  -7.646280\n",
            "\n",
            "[1000 rows x 2 columns]\n"
          ]
        }
      ]
    },
    {
      "cell_type": "markdown",
      "metadata": {
        "id": "-YXa-_b0vAZL"
      },
      "source": [
        "## K-Means Model & Training\n",
        "\n",
        "The basic pseudocode of the K-Means algorithm is :\n",
        "\n",
        ">**begin** <br>\n",
        "   specify the number k of clustering to assign.<br>\n",
        "   randomly initialize k centroids.<br>\n",
        "   **repeat**<br>\n",
        "      **expectation:** Assign each point to its closet centroid.   \n",
        "      **maximization:** Compute the new centroid (mean) of each cluster.<br>\n",
        "   **until** The centroid position do not change.<br>\n",
        "**end**"
      ]
    },
    {
      "cell_type": "code",
      "metadata": {
        "id": "m6NWRz82uzfV"
      },
      "source": [
        "from sklearn.cluster import KMeans"
      ],
      "execution_count": 7,
      "outputs": []
    },
    {
      "cell_type": "code",
      "metadata": {
        "id": "xfgxiIxpxWV9"
      },
      "source": [
        "# create kmeans model\n",
        "\n",
        "kmeans = KMeans(\n",
        "    init=\"random\",\n",
        "    n_clusters=16,\n",
        "    n_init=10,\n",
        "    max_iter=300,\n",
        "    random_state=42\n",
        ")"
      ],
      "execution_count": 8,
      "outputs": []
    },
    {
      "cell_type": "code",
      "metadata": {
        "id": "l7iBVdmty_Rg"
      },
      "source": [
        "# training clustering model\n",
        "\n",
        "kmeans.fit(features)\n",
        "\n",
        "# saving resulting labels\n",
        "labels = kmeans.labels_"
      ],
      "execution_count": 9,
      "outputs": []
    },
    {
      "cell_type": "code",
      "metadata": {
        "colab": {
          "base_uri": "https://localhost:8080/"
        },
        "id": "snXJzPEuznWJ",
        "outputId": "02a8c58a-3505-4693-bfc5-9c8aeff650d3"
      },
      "source": [
        "# sending results back into dataframe and display it\n",
        "data['cluster'] = labels\n",
        "\n",
        "# display the number of mamber each clustering\n",
        "_clusters = data.groupby('cluster')['Index'].count()\n",
        "print(_clusters)"
      ],
      "execution_count": 10,
      "outputs": [
        {
          "output_type": "stream",
          "name": "stdout",
          "text": [
            "cluster\n",
            "0     64\n",
            "1     50\n",
            "2     71\n",
            "3     79\n",
            "4     68\n",
            "5     53\n",
            "6     72\n",
            "7     57\n",
            "8     45\n",
            "9     63\n",
            "10    57\n",
            "11    59\n",
            "12    59\n",
            "13    63\n",
            "14    73\n",
            "15    67\n",
            "Name: Index, dtype: int64\n"
          ]
        }
      ]
    },
    {
      "cell_type": "markdown",
      "metadata": {
        "id": "R_TlOLAL1LI2"
      },
      "source": [
        "## Clustering with Constrained Problem"
      ]
    },
    {
      "cell_type": "code",
      "metadata": {
        "colab": {
          "base_uri": "https://localhost:8080/"
        },
        "id": "PCZjCDxL1IkE",
        "outputId": "3319e9b4-4598-4d0a-b894-a6c163236e36"
      },
      "source": [
        "pip install k-means-constrained"
      ],
      "execution_count": 11,
      "outputs": [
        {
          "output_type": "stream",
          "name": "stdout",
          "text": [
            "Requirement already satisfied: k-means-constrained in /usr/local/lib/python3.7/dist-packages (0.6.0)\n",
            "Requirement already satisfied: six in /usr/local/lib/python3.7/dist-packages (from k-means-constrained) (1.15.0)\n",
            "Requirement already satisfied: numpy>=1.20.3 in /usr/local/lib/python3.7/dist-packages (from k-means-constrained) (1.21.2)\n",
            "Requirement already satisfied: joblib in /usr/local/lib/python3.7/dist-packages (from k-means-constrained) (1.0.1)\n",
            "Requirement already satisfied: scipy>=1.6.3 in /usr/local/lib/python3.7/dist-packages (from k-means-constrained) (1.7.1)\n",
            "Requirement already satisfied: ortools>=9.0.9048 in /usr/local/lib/python3.7/dist-packages (from k-means-constrained) (9.1.9490)\n",
            "Requirement already satisfied: protobuf>=3.18.0 in /usr/local/lib/python3.7/dist-packages (from ortools>=9.0.9048->k-means-constrained) (3.18.1)\n",
            "Requirement already satisfied: absl-py>=0.13 in /usr/local/lib/python3.7/dist-packages (from ortools>=9.0.9048->k-means-constrained) (0.14.1)\n"
          ]
        }
      ]
    },
    {
      "cell_type": "code",
      "metadata": {
        "id": "zc9cxDzv1WtF"
      },
      "source": [
        "import numpy as np"
      ],
      "execution_count": 12,
      "outputs": []
    },
    {
      "cell_type": "code",
      "metadata": {
        "colab": {
          "base_uri": "https://localhost:8080/"
        },
        "id": "2hfavlqa1hR7",
        "outputId": "be8709ce-2fa5-4e3f-aa54-8ad4ec97ac2e"
      },
      "source": [
        "file_url = \"dataset/coord.csv\"\n",
        "\n",
        "data_2 = pd.read_csv(file_url, delimiter=\";\")\n",
        "\n",
        "# convert our features dataframe into an X array\n",
        "features_2 = data[['latitude', 'longitude']]\n",
        "X = np.array(features_2)\n",
        "print(X[:10])"
      ],
      "execution_count": 13,
      "outputs": [
        {
          "output_type": "stream",
          "name": "stdout",
          "text": [
            "[[33.5464789  -7.65531218]\n",
            " [33.54926861 -7.65040856]\n",
            " [33.54074579 -7.64167577]\n",
            " [33.58563566 -7.6193976 ]\n",
            " [33.59856997 -7.64705397]\n",
            " [33.59408516 -7.62597458]\n",
            " [33.56767724 -7.64328812]\n",
            " [33.5882301  -7.60901599]\n",
            " [33.54945347 -7.64815838]\n",
            " [33.57455478 -7.62984487]]\n"
          ]
        }
      ]
    },
    {
      "cell_type": "code",
      "metadata": {
        "id": "JuDVwxCW3AHU"
      },
      "source": [
        "from k_means_constrained import KMeansConstrained"
      ],
      "execution_count": 14,
      "outputs": []
    },
    {
      "cell_type": "code",
      "metadata": {
        "id": "YXQKWGhq3BgG"
      },
      "source": [
        "# create constrained kmeans model\n",
        "\n",
        "clf = KMeansConstrained(\n",
        "    n_clusters=16,\n",
        "    size_min=39,\n",
        "    size_max=63,\n",
        "    random_state=0\n",
        ")"
      ],
      "execution_count": 15,
      "outputs": []
    },
    {
      "cell_type": "code",
      "metadata": {
        "id": "svojHy123qTb"
      },
      "source": [
        "# training kmeans constrained model with \n",
        "# min and max size number of each cluster \n",
        "\n",
        "clf.fit_predict(X)\n",
        "\n",
        "# saving resulting labels\n",
        "labels_2 = clf.labels_"
      ],
      "execution_count": 16,
      "outputs": []
    },
    {
      "cell_type": "code",
      "metadata": {
        "colab": {
          "base_uri": "https://localhost:8080/"
        },
        "id": "_UHZQ2JU4soo",
        "outputId": "fb000163-576f-43bf-cbe8-3ab3b16e1268"
      },
      "source": [
        "# send back results into dataframe \n",
        "data['cluster_2'] = labels_2\n",
        "\n",
        "# display the number of mamber each clustering\n",
        "_clusters_2 = data.groupby('cluster_2')['Index'].count()\n",
        "print(_clusters_2)"
      ],
      "execution_count": 17,
      "outputs": [
        {
          "output_type": "stream",
          "name": "stdout",
          "text": [
            "cluster_2\n",
            "0     63\n",
            "1     62\n",
            "2     63\n",
            "3     63\n",
            "4     63\n",
            "5     63\n",
            "6     63\n",
            "7     63\n",
            "8     63\n",
            "9     63\n",
            "10    63\n",
            "11    57\n",
            "12    63\n",
            "13    62\n",
            "14    63\n",
            "15    63\n",
            "Name: Index, dtype: int64\n"
          ]
        }
      ]
    },
    {
      "cell_type": "markdown",
      "metadata": {
        "id": "YmUwx4746AQK"
      },
      "source": [
        "## Visualization of the Result"
      ]
    },
    {
      "cell_type": "code",
      "metadata": {
        "colab": {
          "base_uri": "https://localhost:8080/"
        },
        "id": "_HD4eZIOUqQt",
        "outputId": "18f3924a-ae3a-4962-adbe-4666ec286413"
      },
      "source": [
        "pip install streamlit-folium"
      ],
      "execution_count": 18,
      "outputs": [
        {
          "output_type": "stream",
          "name": "stdout",
          "text": [
            "Requirement already satisfied: streamlit-folium in /usr/local/lib/python3.7/dist-packages (0.4.0)\n",
            "Requirement already satisfied: folium>=0.11 in /usr/local/lib/python3.7/dist-packages (from streamlit-folium) (0.12.1)\n",
            "Requirement already satisfied: streamlit>=0.79 in /usr/local/lib/python3.7/dist-packages (from streamlit-folium) (1.0.0)\n",
            "Requirement already satisfied: requests in /usr/local/lib/python3.7/dist-packages (from folium>=0.11->streamlit-folium) (2.23.0)\n",
            "Requirement already satisfied: jinja2>=2.9 in /usr/local/lib/python3.7/dist-packages (from folium>=0.11->streamlit-folium) (2.11.3)\n",
            "Requirement already satisfied: branca>=0.3.0 in /usr/local/lib/python3.7/dist-packages (from folium>=0.11->streamlit-folium) (0.3.1)\n",
            "Requirement already satisfied: numpy in /usr/local/lib/python3.7/dist-packages (from folium>=0.11->streamlit-folium) (1.21.2)\n",
            "Requirement already satisfied: six in /usr/local/lib/python3.7/dist-packages (from branca>=0.3.0->folium>=0.11->streamlit-folium) (1.15.0)\n",
            "Requirement already satisfied: MarkupSafe>=0.23 in /usr/local/lib/python3.7/dist-packages (from jinja2>=2.9->folium>=0.11->streamlit-folium) (2.0.1)\n",
            "Requirement already satisfied: validators in /usr/local/lib/python3.7/dist-packages (from streamlit>=0.79->streamlit-folium) (0.18.2)\n",
            "Requirement already satisfied: pandas>=0.21.0 in /usr/local/lib/python3.7/dist-packages (from streamlit>=0.79->streamlit-folium) (1.1.5)\n",
            "Requirement already satisfied: click<8.0,>=7.0 in /usr/local/lib/python3.7/dist-packages (from streamlit>=0.79->streamlit-folium) (7.1.2)\n",
            "Requirement already satisfied: watchdog in /usr/local/lib/python3.7/dist-packages (from streamlit>=0.79->streamlit-folium) (2.1.6)\n",
            "Requirement already satisfied: protobuf!=3.11,>=3.6.0 in /usr/local/lib/python3.7/dist-packages (from streamlit>=0.79->streamlit-folium) (3.18.1)\n",
            "Requirement already satisfied: base58 in /usr/local/lib/python3.7/dist-packages (from streamlit>=0.79->streamlit-folium) (2.1.0)\n",
            "Requirement already satisfied: python-dateutil in /usr/local/lib/python3.7/dist-packages (from streamlit>=0.79->streamlit-folium) (2.8.2)\n",
            "Requirement already satisfied: pillow>=6.2.0 in /usr/local/lib/python3.7/dist-packages (from streamlit>=0.79->streamlit-folium) (7.1.2)\n",
            "Requirement already satisfied: astor in /usr/local/lib/python3.7/dist-packages (from streamlit>=0.79->streamlit-folium) (0.8.1)\n",
            "Requirement already satisfied: tzlocal in /usr/local/lib/python3.7/dist-packages (from streamlit>=0.79->streamlit-folium) (1.5.1)\n",
            "Requirement already satisfied: blinker in /usr/local/lib/python3.7/dist-packages (from streamlit>=0.79->streamlit-folium) (1.4)\n",
            "Requirement already satisfied: pydeck>=0.1.dev5 in /usr/local/lib/python3.7/dist-packages (from streamlit>=0.79->streamlit-folium) (0.7.0)\n",
            "Requirement already satisfied: altair>=3.2.0 in /usr/local/lib/python3.7/dist-packages (from streamlit>=0.79->streamlit-folium) (4.1.0)\n",
            "Requirement already satisfied: packaging in /usr/local/lib/python3.7/dist-packages (from streamlit>=0.79->streamlit-folium) (21.0)\n",
            "Requirement already satisfied: gitpython!=3.1.19 in /usr/local/lib/python3.7/dist-packages (from streamlit>=0.79->streamlit-folium) (3.1.24)\n",
            "Requirement already satisfied: cachetools>=4.0 in /usr/local/lib/python3.7/dist-packages (from streamlit>=0.79->streamlit-folium) (4.2.4)\n",
            "Requirement already satisfied: pyarrow in /usr/local/lib/python3.7/dist-packages (from streamlit>=0.79->streamlit-folium) (3.0.0)\n",
            "Requirement already satisfied: tornado>=5.0 in /usr/local/lib/python3.7/dist-packages (from streamlit>=0.79->streamlit-folium) (5.1.1)\n",
            "Requirement already satisfied: attrs in /usr/local/lib/python3.7/dist-packages (from streamlit>=0.79->streamlit-folium) (21.2.0)\n",
            "Requirement already satisfied: toml in /usr/local/lib/python3.7/dist-packages (from streamlit>=0.79->streamlit-folium) (0.10.2)\n",
            "Requirement already satisfied: entrypoints in /usr/local/lib/python3.7/dist-packages (from altair>=3.2.0->streamlit>=0.79->streamlit-folium) (0.3)\n",
            "Requirement already satisfied: jsonschema in /usr/local/lib/python3.7/dist-packages (from altair>=3.2.0->streamlit>=0.79->streamlit-folium) (2.6.0)\n",
            "Requirement already satisfied: toolz in /usr/local/lib/python3.7/dist-packages (from altair>=3.2.0->streamlit>=0.79->streamlit-folium) (0.11.1)\n",
            "Requirement already satisfied: typing-extensions>=3.7.4.3 in /usr/local/lib/python3.7/dist-packages (from gitpython!=3.1.19->streamlit>=0.79->streamlit-folium) (3.7.4.3)\n",
            "Requirement already satisfied: gitdb<5,>=4.0.1 in /usr/local/lib/python3.7/dist-packages (from gitpython!=3.1.19->streamlit>=0.79->streamlit-folium) (4.0.7)\n",
            "Requirement already satisfied: smmap<5,>=3.0.1 in /usr/local/lib/python3.7/dist-packages (from gitdb<5,>=4.0.1->gitpython!=3.1.19->streamlit>=0.79->streamlit-folium) (4.0.0)\n",
            "Requirement already satisfied: pytz>=2017.2 in /usr/local/lib/python3.7/dist-packages (from pandas>=0.21.0->streamlit>=0.79->streamlit-folium) (2018.9)\n",
            "Requirement already satisfied: traitlets>=4.3.2 in /usr/local/lib/python3.7/dist-packages (from pydeck>=0.1.dev5->streamlit>=0.79->streamlit-folium) (5.1.0)\n",
            "Requirement already satisfied: ipykernel>=5.1.2 in /usr/local/lib/python3.7/dist-packages (from pydeck>=0.1.dev5->streamlit>=0.79->streamlit-folium) (6.4.1)\n",
            "Requirement already satisfied: ipywidgets>=7.0.0 in /usr/local/lib/python3.7/dist-packages (from pydeck>=0.1.dev5->streamlit>=0.79->streamlit-folium) (7.6.5)\n",
            "Requirement already satisfied: debugpy<2.0,>=1.0.0 in /usr/local/lib/python3.7/dist-packages (from ipykernel>=5.1.2->pydeck>=0.1.dev5->streamlit>=0.79->streamlit-folium) (1.0.0)\n",
            "Requirement already satisfied: jupyter-client<8.0 in /usr/local/lib/python3.7/dist-packages (from ipykernel>=5.1.2->pydeck>=0.1.dev5->streamlit>=0.79->streamlit-folium) (5.3.5)\n",
            "Requirement already satisfied: matplotlib-inline<0.2.0,>=0.1.0 in /usr/local/lib/python3.7/dist-packages (from ipykernel>=5.1.2->pydeck>=0.1.dev5->streamlit>=0.79->streamlit-folium) (0.1.3)\n",
            "Requirement already satisfied: importlib-metadata<5 in /usr/local/lib/python3.7/dist-packages (from ipykernel>=5.1.2->pydeck>=0.1.dev5->streamlit>=0.79->streamlit-folium) (4.8.1)\n",
            "Requirement already satisfied: argcomplete>=1.12.3 in /usr/local/lib/python3.7/dist-packages (from ipykernel>=5.1.2->pydeck>=0.1.dev5->streamlit>=0.79->streamlit-folium) (1.12.3)\n",
            "Requirement already satisfied: ipython<8.0,>=7.23.1 in /usr/local/lib/python3.7/dist-packages (from ipykernel>=5.1.2->pydeck>=0.1.dev5->streamlit>=0.79->streamlit-folium) (7.28.0)\n",
            "Requirement already satisfied: ipython-genutils in /usr/local/lib/python3.7/dist-packages (from ipykernel>=5.1.2->pydeck>=0.1.dev5->streamlit>=0.79->streamlit-folium) (0.2.0)\n",
            "Requirement already satisfied: zipp>=0.5 in /usr/local/lib/python3.7/dist-packages (from importlib-metadata<5->ipykernel>=5.1.2->pydeck>=0.1.dev5->streamlit>=0.79->streamlit-folium) (3.6.0)\n",
            "Requirement already satisfied: pickleshare in /usr/local/lib/python3.7/dist-packages (from ipython<8.0,>=7.23.1->ipykernel>=5.1.2->pydeck>=0.1.dev5->streamlit>=0.79->streamlit-folium) (0.7.5)\n",
            "Requirement already satisfied: setuptools>=18.5 in /usr/local/lib/python3.7/dist-packages (from ipython<8.0,>=7.23.1->ipykernel>=5.1.2->pydeck>=0.1.dev5->streamlit>=0.79->streamlit-folium) (57.4.0)\n",
            "Requirement already satisfied: pygments in /usr/local/lib/python3.7/dist-packages (from ipython<8.0,>=7.23.1->ipykernel>=5.1.2->pydeck>=0.1.dev5->streamlit>=0.79->streamlit-folium) (2.6.1)\n",
            "Requirement already satisfied: jedi>=0.16 in /usr/local/lib/python3.7/dist-packages (from ipython<8.0,>=7.23.1->ipykernel>=5.1.2->pydeck>=0.1.dev5->streamlit>=0.79->streamlit-folium) (0.18.0)\n",
            "Requirement already satisfied: decorator in /usr/local/lib/python3.7/dist-packages (from ipython<8.0,>=7.23.1->ipykernel>=5.1.2->pydeck>=0.1.dev5->streamlit>=0.79->streamlit-folium) (4.4.2)\n",
            "Requirement already satisfied: backcall in /usr/local/lib/python3.7/dist-packages (from ipython<8.0,>=7.23.1->ipykernel>=5.1.2->pydeck>=0.1.dev5->streamlit>=0.79->streamlit-folium) (0.2.0)\n",
            "Requirement already satisfied: pexpect>4.3 in /usr/local/lib/python3.7/dist-packages (from ipython<8.0,>=7.23.1->ipykernel>=5.1.2->pydeck>=0.1.dev5->streamlit>=0.79->streamlit-folium) (4.8.0)\n",
            "Requirement already satisfied: prompt-toolkit!=3.0.0,!=3.0.1,<3.1.0,>=2.0.0 in /usr/local/lib/python3.7/dist-packages (from ipython<8.0,>=7.23.1->ipykernel>=5.1.2->pydeck>=0.1.dev5->streamlit>=0.79->streamlit-folium) (3.0.20)\n",
            "Requirement already satisfied: jupyterlab-widgets>=1.0.0 in /usr/local/lib/python3.7/dist-packages (from ipywidgets>=7.0.0->pydeck>=0.1.dev5->streamlit>=0.79->streamlit-folium) (1.0.2)\n",
            "Requirement already satisfied: widgetsnbextension~=3.5.0 in /usr/local/lib/python3.7/dist-packages (from ipywidgets>=7.0.0->pydeck>=0.1.dev5->streamlit>=0.79->streamlit-folium) (3.5.1)\n",
            "Requirement already satisfied: nbformat>=4.2.0 in /usr/local/lib/python3.7/dist-packages (from ipywidgets>=7.0.0->pydeck>=0.1.dev5->streamlit>=0.79->streamlit-folium) (5.1.3)\n",
            "Requirement already satisfied: parso<0.9.0,>=0.8.0 in /usr/local/lib/python3.7/dist-packages (from jedi>=0.16->ipython<8.0,>=7.23.1->ipykernel>=5.1.2->pydeck>=0.1.dev5->streamlit>=0.79->streamlit-folium) (0.8.2)\n",
            "Requirement already satisfied: pyzmq>=13 in /usr/local/lib/python3.7/dist-packages (from jupyter-client<8.0->ipykernel>=5.1.2->pydeck>=0.1.dev5->streamlit>=0.79->streamlit-folium) (22.3.0)\n",
            "Requirement already satisfied: jupyter-core>=4.6.0 in /usr/local/lib/python3.7/dist-packages (from jupyter-client<8.0->ipykernel>=5.1.2->pydeck>=0.1.dev5->streamlit>=0.79->streamlit-folium) (4.8.1)\n",
            "Requirement already satisfied: ptyprocess>=0.5 in /usr/local/lib/python3.7/dist-packages (from pexpect>4.3->ipython<8.0,>=7.23.1->ipykernel>=5.1.2->pydeck>=0.1.dev5->streamlit>=0.79->streamlit-folium) (0.7.0)\n",
            "Requirement already satisfied: wcwidth in /usr/local/lib/python3.7/dist-packages (from prompt-toolkit!=3.0.0,!=3.0.1,<3.1.0,>=2.0.0->ipython<8.0,>=7.23.1->ipykernel>=5.1.2->pydeck>=0.1.dev5->streamlit>=0.79->streamlit-folium) (0.2.5)\n",
            "Requirement already satisfied: notebook>=4.4.1 in /usr/local/lib/python3.7/dist-packages (from widgetsnbextension~=3.5.0->ipywidgets>=7.0.0->pydeck>=0.1.dev5->streamlit>=0.79->streamlit-folium) (5.3.1)\n",
            "Requirement already satisfied: terminado>=0.8.1 in /usr/local/lib/python3.7/dist-packages (from notebook>=4.4.1->widgetsnbextension~=3.5.0->ipywidgets>=7.0.0->pydeck>=0.1.dev5->streamlit>=0.79->streamlit-folium) (0.12.1)\n",
            "Requirement already satisfied: Send2Trash in /usr/local/lib/python3.7/dist-packages (from notebook>=4.4.1->widgetsnbextension~=3.5.0->ipywidgets>=7.0.0->pydeck>=0.1.dev5->streamlit>=0.79->streamlit-folium) (1.8.0)\n",
            "Requirement already satisfied: nbconvert in /usr/local/lib/python3.7/dist-packages (from notebook>=4.4.1->widgetsnbextension~=3.5.0->ipywidgets>=7.0.0->pydeck>=0.1.dev5->streamlit>=0.79->streamlit-folium) (5.6.1)\n",
            "Requirement already satisfied: testpath in /usr/local/lib/python3.7/dist-packages (from nbconvert->notebook>=4.4.1->widgetsnbextension~=3.5.0->ipywidgets>=7.0.0->pydeck>=0.1.dev5->streamlit>=0.79->streamlit-folium) (0.5.0)\n",
            "Requirement already satisfied: mistune<2,>=0.8.1 in /usr/local/lib/python3.7/dist-packages (from nbconvert->notebook>=4.4.1->widgetsnbextension~=3.5.0->ipywidgets>=7.0.0->pydeck>=0.1.dev5->streamlit>=0.79->streamlit-folium) (0.8.4)\n",
            "Requirement already satisfied: bleach in /usr/local/lib/python3.7/dist-packages (from nbconvert->notebook>=4.4.1->widgetsnbextension~=3.5.0->ipywidgets>=7.0.0->pydeck>=0.1.dev5->streamlit>=0.79->streamlit-folium) (4.1.0)\n",
            "Requirement already satisfied: pandocfilters>=1.4.1 in /usr/local/lib/python3.7/dist-packages (from nbconvert->notebook>=4.4.1->widgetsnbextension~=3.5.0->ipywidgets>=7.0.0->pydeck>=0.1.dev5->streamlit>=0.79->streamlit-folium) (1.5.0)\n",
            "Requirement already satisfied: defusedxml in /usr/local/lib/python3.7/dist-packages (from nbconvert->notebook>=4.4.1->widgetsnbextension~=3.5.0->ipywidgets>=7.0.0->pydeck>=0.1.dev5->streamlit>=0.79->streamlit-folium) (0.7.1)\n",
            "Requirement already satisfied: webencodings in /usr/local/lib/python3.7/dist-packages (from bleach->nbconvert->notebook>=4.4.1->widgetsnbextension~=3.5.0->ipywidgets>=7.0.0->pydeck>=0.1.dev5->streamlit>=0.79->streamlit-folium) (0.5.1)\n",
            "Requirement already satisfied: pyparsing>=2.0.2 in /usr/local/lib/python3.7/dist-packages (from packaging->streamlit>=0.79->streamlit-folium) (2.4.7)\n",
            "Requirement already satisfied: idna<3,>=2.5 in /usr/local/lib/python3.7/dist-packages (from requests->folium>=0.11->streamlit-folium) (2.10)\n",
            "Requirement already satisfied: certifi>=2017.4.17 in /usr/local/lib/python3.7/dist-packages (from requests->folium>=0.11->streamlit-folium) (2021.5.30)\n",
            "Requirement already satisfied: chardet<4,>=3.0.2 in /usr/local/lib/python3.7/dist-packages (from requests->folium>=0.11->streamlit-folium) (3.0.4)\n",
            "Requirement already satisfied: urllib3!=1.25.0,!=1.25.1,<1.26,>=1.21.1 in /usr/local/lib/python3.7/dist-packages (from requests->folium>=0.11->streamlit-folium) (1.24.3)\n"
          ]
        }
      ]
    },
    {
      "cell_type": "code",
      "metadata": {
        "id": "biEVVhIR6CAO"
      },
      "source": [
        "import folium\n",
        "import streamlit as st\n",
        "from streamlit_folium import folium_static"
      ],
      "execution_count": 26,
      "outputs": []
    },
    {
      "cell_type": "code",
      "metadata": {
        "id": "2VeSJ6rC6KxU"
      },
      "source": [
        "colors = ['red', 'blue', 'green', 'purple', 'orange', 'darkred',\n",
        "          'lightred', 'beige', 'darkblue', 'darkgreen', 'cadetblue',\n",
        "          'darkpurple', 'pink', 'lightblue', 'lightgreen', 'gray']\n",
        "\n",
        "lat = data.iloc[0]['latitude']\n",
        "lng = data.iloc[0]['longitude']\n"
      ],
      "execution_count": 36,
      "outputs": []
    },
    {
      "cell_type": "markdown",
      "metadata": {
        "collapsed": false,
        "pycharm": {
          "name": "#%% md\n"
        },
        "id": "sCbW5uUcQQYE"
      },
      "source": [
        "### Map containing results of Geolocation Data Clustering (First Model Results)"
      ]
    },
    {
      "cell_type": "code",
      "metadata": {
        "id": "-QRsEnD4DC7K",
        "colab": {
          "base_uri": "https://localhost:8080/"
        },
        "outputId": "7424070e-e40d-4f56-b5b5-8ebb907abc02"
      },
      "source": [
        "# Map containing results of Geolocation Data Clustering (First Model Results)\n",
        "\n",
        "map = folium.Map(location=[latitude, longitude], zoom_start=13)\n",
        "\n",
        "for _, row in data.iterrows():\n",
        "    folium.CircleMarker(\n",
        "        location=[row[\"latitude\"], row[\"longitude\"]],\n",
        "        radius=12,\n",
        "        weight=2,\n",
        "        fill=True,\n",
        "        fill_color=colors[int(row[\"cluster\"])],\n",
        "        color=colors[int(row[\"cluster\"])]\n",
        "    ).add_to(map)\n",
        "    \n",
        "# Displaying Map\n",
        "folium_static(map)"
      ],
      "execution_count": 38,
      "outputs": [
        {
          "output_type": "execute_result",
          "data": {
            "text/plain": [
              "DeltaGenerator(_root_container=0, _provided_cursor=None, _parent=None, _block_type=None, _form_data=None)"
            ]
          },
          "metadata": {},
          "execution_count": 38
        }
      ]
    },
    {
      "cell_type": "markdown",
      "metadata": {
        "collapsed": false,
        "pycharm": {
          "name": "#%% md\n"
        },
        "id": "paLuBiEJQQYF"
      },
      "source": [
        "### Map containing results of Geolocation Data Constrained Clustering (min: 39, max: 63)"
      ]
    },
    {
      "cell_type": "code",
      "metadata": {
        "id": "i_IhFHYaDHAK"
      },
      "source": [
        "# Map containing results of Geolocation Data Constrained Clustering (min: 39, max: 63)\n",
        "\n",
        "map_2 = folium.Map(location=[latitude, longitude], zoom_start=13)\n",
        "\n",
        "for _, row in data.iterrows():\n",
        "    folium.CircleMarker(\n",
        "        location=[row[\"latitude\"], row[\"longitude\"]],\n",
        "        radius=12,\n",
        "        weight=2,\n",
        "        fill=True,\n",
        "        fill_color=colors[int(row[\"cluster_2\"])],\n",
        "        color=colors[int(row[\"cluster_2\"])]\n",
        "    ).add_to(map_2)"
      ],
      "execution_count": 39,
      "outputs": []
    },
    {
      "cell_type": "code",
      "metadata": {
        "colab": {
          "base_uri": "https://localhost:8080/"
        },
        "id": "YFj4enWIEJEA",
        "outputId": "4df7eb1e-e7b4-485d-d8a4-2cbc33b9f7d6"
      },
      "source": [
        "# Displaying Map 2\n",
        "folium_static(map_2)"
      ],
      "execution_count": 40,
      "outputs": [
        {
          "output_type": "execute_result",
          "data": {
            "text/plain": [
              "DeltaGenerator(_root_container=0, _provided_cursor=None, _parent=None, _block_type=None, _form_data=None)"
            ]
          },
          "metadata": {},
          "execution_count": 40
        }
      ]
    }
  ]
}